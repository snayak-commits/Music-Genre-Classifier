{
 "cells": [
  {
   "cell_type": "markdown",
   "metadata": {},
   "source": [
    "# **Music Genre Classification**"
   ]
  },
  {
   "cell_type": "markdown",
   "metadata": {},
   "source": [
    "## **Introduction**\n",
    "\n",
    "**_This project involves building a music genre classifier using various machine learning techniques. The goal is to classify audio tracks into different genres such as Classical, Metal, Pop, Hip-Hop, and Rock. The project leverages multiple machine learning classifiers, including K-Nearest Neighbors, Random Forest, CatBoost, and XGBoost, along with simple Neural Networks. The performance and accuracy of these models are evaluated and visualized through various graphs._**"
   ]
  },
  {
   "cell_type": "markdown",
   "metadata": {},
   "source": [
    "## **Libraries and Modules**"
   ]
  },
  {
   "cell_type": "code",
   "execution_count": null,
   "metadata": {},
   "outputs": [],
   "source": [
    "import numpy as np  # type: ignore \n",
    "import pandas as pd  # type: ignore \n",
    "import sklearn  # type: ignore \n",
    "import matplotlib  # type: ignore \n",
    "import matplotlib.pyplot as plt  # type: ignore \n",
    "import seaborn as sns  # type: ignore \n",
    "import plotly  # type: ignore \n",
    "import plotly.graph_objs as go  # type: ignore \n",
    "import librosa  # type: ignore \n",
    "import librosa.display  # type: ignore \n",
    "import catboost as cb  # type: ignore \n",
    "import tensorflow.keras as keras  # type: ignore \n",
    "\n",
    "from IPython.display import Audio  # type: ignore \n",
    "from sklearn import preprocessing  # type: ignore \n",
    "from sklearn.model_selection import train_test_split  # type: ignore \n",
    "from sklearn.metrics import accuracy_score  # type: ignore \n",
    "from sklearn.neighbors import KNeighborsClassifier  # type: ignore  \n",
    "from sklearn.ensemble import RandomForestClassifier  # type: ignore  \n",
    "from xgboost import XGBClassifier  # type: ignore \n",
    "from tensorflow.keras import Sequential  # type: ignore \n",
    "from tensorflow.keras.layers import Flatten, Dense, BatchNormalization, Dropout  # type: ignore \n",
    "\n",
    "print(\"NumPy Version:\", np.__version__)  # type: ignore \n",
    "print(\"Pandas Version:\", pd.__version__)  # type: ignore \n",
    "print(\"Matplotlib Version:\", matplotlib.__version__)  # type: ignore \n",
    "print(\"Seaborn Version:\", sns.__version__)  # type: ignore \n",
    "print(\"Plotly Version:\", plotly.__version__)  # type: ignore \n",
    "print(\"Librosa Version:\", librosa.__version__)  # type: ignore\n",
    "print(\"Scikit-learn Version:\", sklearn.__version__)  # type: ignore  \n",
    "\n",
    "import warnings\n",
    "warnings.filterwarnings(\"ignore\")"
   ]
  },
  {
   "cell_type": "markdown",
   "metadata": {},
   "source": [
    "## **Importing Dataset**"
   ]
  },
  {
   "cell_type": "code",
   "execution_count": null,
   "metadata": {},
   "outputs": [],
   "source": [
    "data = pd.read_csv('Data/file.csv') \n",
    "data.head(5)"
   ]
  },
  {
   "cell_type": "markdown",
   "metadata": {},
   "source": [
    "## **Exploratory Data Analysis**"
   ]
  },
  {
   "cell_type": "code",
   "execution_count": null,
   "metadata": {},
   "outputs": [],
   "source": [
    "data['label'].value_counts()"
   ]
  },
  {
   "cell_type": "markdown",
   "metadata": {},
   "source": [
    "### **Classical**"
   ]
  },
  {
   "cell_type": "code",
   "execution_count": null,
   "metadata": {},
   "outputs": [],
   "source": [
    "path = 'Data/genres_original/classical/classical.00000.wav'\n",
    "x, sr = librosa.load(path)\n",
    "\n",
    "fig = go.Figure()\n",
    "\n",
    "fig.add_trace(go.Scatter(\n",
    "    x = np.arange(len(x)) / sr,\n",
    "    y = x,\n",
    "    mode = 'lines',\n",
    "    line = dict(color = 'blue'),\n",
    "    name = 'Waveform'\n",
    "))\n",
    "\n",
    "fig.update_layout(\n",
    "    title = 'Waveform of classical.00000.wav',\n",
    "    xaxis_title = 'Time (s)',\n",
    "    yaxis_title = 'Amplitude',\n",
    "    width = 1000,\n",
    "    height = 400\n",
    ")\n",
    "\n",
    "fig.show()\n",
    "display(Audio(path))"
   ]
  },
  {
   "cell_type": "markdown",
   "metadata": {},
   "source": [
    "### **Hip-Hop**"
   ]
  },
  {
   "cell_type": "code",
   "execution_count": null,
   "metadata": {},
   "outputs": [],
   "source": [
    "path = 'Data/genres_original/hiphop/hiphop.00000.wav'\n",
    "x, sr = librosa.load(path)\n",
    "\n",
    "fig = go.Figure()\n",
    "\n",
    "fig.add_trace(go.Scatter(\n",
    "    x = np.arange(len(x)) / sr,\n",
    "    y = x,\n",
    "    mode = 'lines',\n",
    "    line = dict(color = 'green'),\n",
    "    name = 'Waveform'\n",
    "))\n",
    "\n",
    "fig.update_layout(\n",
    "    title = 'Waveform of hiphop.00000.wav',\n",
    "    xaxis_title = 'Time (s)',\n",
    "    yaxis_title = 'Amplitude',\n",
    "    width = 1000,\n",
    "    height = 400\n",
    ")\n",
    "\n",
    "fig.show()\n",
    "display(Audio(path))"
   ]
  },
  {
   "cell_type": "markdown",
   "metadata": {},
   "source": [
    "### **Metal**"
   ]
  },
  {
   "cell_type": "code",
   "execution_count": null,
   "metadata": {},
   "outputs": [],
   "source": [
    "path = 'Data/genres_original/metal/metal.00000.wav'\n",
    "x, sr = librosa.load(path)\n",
    "\n",
    "fig = go.Figure()\n",
    "\n",
    "fig.add_trace(go.Scatter(\n",
    "    x = np.arange(len(x)) / sr,\n",
    "    y = x,\n",
    "    mode = 'lines',\n",
    "    line = dict(color = 'orange'),\n",
    "    name = 'Waveform'\n",
    "))\n",
    "\n",
    "fig.update_layout(\n",
    "    title = 'Waveform of metal.00000.wav',\n",
    "    xaxis_title = 'Time (s)',\n",
    "    yaxis_title = 'Amplitude',\n",
    "    width = 1000,\n",
    "    height = 400\n",
    ")\n",
    "\n",
    "fig.show()\n",
    "display(Audio(path))"
   ]
  },
  {
   "cell_type": "markdown",
   "metadata": {},
   "source": [
    "### **Pop**"
   ]
  },
  {
   "cell_type": "code",
   "execution_count": null,
   "metadata": {},
   "outputs": [],
   "source": [
    "path = 'Data/genres_original/pop/pop.00000.wav'\n",
    "x, sr = librosa.load(path)\n",
    "\n",
    "fig = go.Figure()\n",
    "\n",
    "fig.add_trace(go.Scatter(\n",
    "    x = np.arange(len(x)) / sr,\n",
    "    y = x,\n",
    "    mode = 'lines',\n",
    "    line = dict(color = 'purple'),\n",
    "    name = 'Waveform'\n",
    "))\n",
    "\n",
    "fig.update_layout(\n",
    "    title = 'Waveform of pop.00000.wav',\n",
    "    xaxis_title = 'Time (s)',\n",
    "    yaxis_title = 'Amplitude',\n",
    "    width = 1000,\n",
    "    height = 400\n",
    ")\n",
    "\n",
    "fig.show()\n",
    "display(Audio(path))\n"
   ]
  },
  {
   "cell_type": "markdown",
   "metadata": {},
   "source": [
    "### **Rock**"
   ]
  },
  {
   "cell_type": "code",
   "execution_count": null,
   "metadata": {},
   "outputs": [],
   "source": [
    "path = 'Data/genres_original/rock/rock.00000.wav'\n",
    "x, sr = librosa.load(path)\n",
    "\n",
    "fig = go.Figure()\n",
    "\n",
    "fig.add_trace(go.Scatter(\n",
    "    x = np.arange(len(x)) / sr,\n",
    "    y = x,\n",
    "    mode = 'lines',\n",
    "    line = dict(color = 'red'),\n",
    "    name = 'Waveform'\n",
    "))\n",
    "\n",
    "fig.update_layout(\n",
    "    title = 'Waveform of rock.00000.wav',\n",
    "    xaxis_title = 'Time (s)',\n",
    "    yaxis_title = 'Amplitude',\n",
    "    width = 1000,\n",
    "    height = 400\n",
    ")\n",
    "\n",
    "fig.show()\n",
    "display(Audio(path))"
   ]
  },
  {
   "cell_type": "markdown",
   "metadata": {},
   "source": [
    "### **Heatmap**"
   ]
  },
  {
   "cell_type": "code",
   "execution_count": null,
   "metadata": {},
   "outputs": [],
   "source": [
    "spike_cols = [col for col in data.columns if 'mean' in col] \n",
    "f, ax = plt.subplots(figsize=(16, 11)); \n",
    "\n",
    "sns.heatmap(data[spike_cols].corr(), cmap = 'YlGn') \n",
    "plt.title('Heatmap for MEAN variables', fontdict = {'fontname': 'Arial', 'color': 'black', 'fontsize': 20, 'fontweight': 'bold'})\n",
    "plt.xticks(fontsize = 10) \n",
    "plt.yticks(fontsize = 10)\n",
    "plt.show()"
   ]
  },
  {
   "cell_type": "markdown",
   "metadata": {},
   "source": [
    "## **Data Preprocessing**"
   ]
  },
  {
   "cell_type": "markdown",
   "metadata": {},
   "source": [
    "### **Encoding**\n",
    "\n",
    "**_Encoding performed using Label Encoder to convert labels into integer._**"
   ]
  },
  {
   "cell_type": "code",
   "execution_count": null,
   "metadata": {},
   "outputs": [],
   "source": [
    "label_encoder = preprocessing.LabelEncoder() \n",
    "data['label'] = label_encoder.fit_transform(data['label'])"
   ]
  },
  {
   "cell_type": "code",
   "execution_count": null,
   "metadata": {},
   "outputs": [],
   "source": [
    "x = data.drop(['label', 'filename'],axis = 1) \n",
    "y = data['label']"
   ]
  },
  {
   "cell_type": "markdown",
   "metadata": {},
   "source": [
    "### **Scaling**\n",
    "\n",
    "**_Scaling is performed using MinMax Scaler to make the model more stable and train faster._**"
   ]
  },
  {
   "cell_type": "code",
   "execution_count": null,
   "metadata": {},
   "outputs": [],
   "source": [
    "cols = x.columns \n",
    "minmax = preprocessing.MinMaxScaler() \n",
    "np_scaled = minmax.fit_transform(x) \n",
    "\n",
    "x = pd.DataFrame(np_scaled, columns = cols)"
   ]
  },
  {
   "cell_type": "markdown",
   "metadata": {},
   "source": [
    "## **Model Training**\n",
    "\n",
    "#### **_Classifiers:_**\n",
    "* **_K-Nearest Neighbor Classifier_**\n",
    "* **_Random Forest Classifier_**\n",
    "* **_CatBoost Classifier_**\n",
    "* **_XGBoost Classifier_**"
   ]
  },
  {
   "cell_type": "code",
   "execution_count": null,
   "metadata": {},
   "outputs": [],
   "source": [
    "x_train, x_test, y_train, y_test = train_test_split(x, y, test_size = 0.3, random_state = 111) \n",
    "x_train.shape, x_test.shape, y_train.shape, y_test.shape"
   ]
  },
  {
   "cell_type": "markdown",
   "metadata": {},
   "source": [
    "### **Accuracy Calculation**"
   ]
  },
  {
   "cell_type": "code",
   "execution_count": null,
   "metadata": {},
   "outputs": [],
   "source": [
    "knn = KNeighborsClassifier(n_neighbors = 3)\n",
    "rf = RandomForestClassifier(n_estimators = 1000, max_depth = 10, random_state = 0) \n",
    "cbc = cb.CatBoostClassifier(verbose = 0, eval_metric = 'Accuracy', loss_function = 'MultiClass') \n",
    "xgb = XGBClassifier(n_estimators = 1000, learning_rate = 0.05) \n",
    "  \n",
    "for clf in (knn, rf, cbc, xgb):\n",
    "    clf.fit(x_train, y_train) \n",
    "    preds = clf.predict(x_test) \n",
    "    print(clf.__class__.__name__,accuracy_score(y_test, preds))"
   ]
  },
  {
   "cell_type": "markdown",
   "metadata": {},
   "source": [
    "**_Based on the aforementioned accuracy score, we may conclude that the CatBoost Classifier is the most accurate classifier. Ensemble Learning techniques perform better than the Supervised Learning techniques._**"
   ]
  },
  {
   "cell_type": "markdown",
   "metadata": {},
   "source": [
    "### **Neural Networks**\n",
    "\n",
    "**_Evaluation using simple neural network._**"
   ]
  },
  {
   "cell_type": "code",
   "execution_count": null,
   "metadata": {},
   "outputs": [],
   "source": [
    "model = Sequential() \n",
    "\n",
    "model.add(Flatten(input_shape=(58,))) \n",
    "model.add(Dense(256, activation='relu')) \n",
    "model.add(BatchNormalization()) \n",
    "model.add(Dense(128, activation='relu')) \n",
    "model.add(Dropout(0.3)) \n",
    "model.add(Dense(10, activation='softmax')) \n",
    "model.summary()"
   ]
  },
  {
   "cell_type": "code",
   "execution_count": null,
   "metadata": {},
   "outputs": [],
   "source": [
    "adam = keras.optimizers.Adam(learning_rate = 1e-4)\n",
    "model.compile(optimizer = adam, \n",
    "              loss = \"sparse_categorical_crossentropy\", \n",
    "              metrics = [\"accuracy\"])\n",
    "\n",
    "hist = model.fit(x_train, y_train, \n",
    "                 validation_data =  (x_test, y_test), \n",
    "                 epochs = 100, \n",
    "                 batch_size = 32)"
   ]
  },
  {
   "cell_type": "code",
   "execution_count": null,
   "metadata": {},
   "outputs": [],
   "source": [
    "test_error, test_accuracy = model.evaluate(x_test, y_test, verbose = 1) \n",
    "print(f\"Test Accuracy: {test_accuracy}\")"
   ]
  },
  {
   "cell_type": "code",
   "execution_count": null,
   "metadata": {},
   "outputs": [],
   "source": [
    "fig, axs = plt.subplots(2, figsize = (10, 10)) \n",
    "\n",
    "# Accuracy\n",
    "axs[0].plot(hist.history[\"accuracy\"], label = \"Train\") \n",
    "axs[0].plot(hist.history[\"val_accuracy\"], label = \"Test\")\t \n",
    "axs[0].set_ylabel(\"Accuracy\", fontdict = {'fontname': 'Arial', 'color': 'black', 'fontsize': 10, 'fontweight': 'bold'})\n",
    "axs[0].legend() \n",
    "axs[0].set_title(\"Accuracy\", fontdict = {'fontname': 'Arial', 'color': 'black', 'fontsize': 15, 'fontweight': 'bold'}) \n",
    "\t\n",
    "# Error\n",
    "axs[1].plot(hist.history[\"loss\"], label = \"Train\") \n",
    "axs[1].plot(hist.history[\"val_loss\"], label = \"Test\")\t \n",
    "axs[1].set_ylabel(\"Error\", fontdict = {'fontname': 'Arial', 'color': 'black', 'fontsize': 10, 'fontweight': 'bold'}) \n",
    "axs[1].legend() \n",
    "axs[1].set_title(\"Error\", fontdict = {'fontname': 'Arial', 'color': 'black', 'fontsize': 15, 'fontweight': 'bold'}) \n",
    "\t\n",
    "plt.show()"
   ]
  },
  {
   "cell_type": "markdown",
   "metadata": {},
   "source": [
    "**_With an accuracy rate of over 80%, ensemble learning and neural networks have been shown to be the most effective method for classifying genres._**"
   ]
  },
  {
   "cell_type": "markdown",
   "metadata": {},
   "source": [
    "## **Conclusion**\n",
    "\n",
    "**_To sum up, this research offers insightful information about the potential of several machine learning algorithms for the classification of musical genres. The results show how different machine learning approaches can be applied to classify music tracks into distinct genres. The research offers a thorough assessment of model performance in the context of music genre categorisation by utilising a variety of classifiers, including K-Nearest Neighbours, Random Forest, CatBoost, and XGBoost, in addition to basic neural networks._**"
   ]
  }
 ],
 "metadata": {
  "kernelspec": {
   "display_name": "Python 3",
   "language": "python",
   "name": "python3"
  },
  "language_info": {
   "codemirror_mode": {
    "name": "ipython",
    "version": 3
   },
   "file_extension": ".py",
   "mimetype": "text/x-python",
   "name": "python",
   "nbconvert_exporter": "python",
   "pygments_lexer": "ipython3",
   "version": "3.12.2"
  }
 },
 "nbformat": 4,
 "nbformat_minor": 2
}
